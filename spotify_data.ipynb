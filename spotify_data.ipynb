{
 "cells": [
  {
   "cell_type": "markdown",
   "metadata": {},
   "source": [
    "# Analyzing My Spotify Listening History\n",
    "\n",
    "**SE_42: Data Science Basics** \n",
    "\n",
    "**Justin Brandt - 22.01.003**"
   ]
  },
  {
   "cell_type": "markdown",
   "metadata": {},
   "source": [
    "---"
   ]
  },
  {
   "cell_type": "markdown",
   "metadata": {},
   "source": [
    "## Table of Contents\n"
   ]
  },
  {
   "cell_type": "markdown",
   "metadata": {},
   "source": [
    "1. [Introduction](#introduction)\n",
    "1. [Understanding the Data](#understanding-the-data)\n",
    "1. [Data Preparation](#data-preparation)\n",
    "1. [Exploratory Data Analysis](#exploratory-data-analysis)\n",
    "1. [Summary and Insights](#summary-and-insights)\n",
    "1. [Conclusion](#conclusion)\n",
    "1. [References and Resources](#references-and-resources)"
   ]
  },
  {
   "cell_type": "markdown",
   "metadata": {},
   "source": [
    "## Introduction"
   ]
  },
  {
   "cell_type": "markdown",
   "metadata": {},
   "source": [
    "This project analyzes my Spotify listening history to uncover patterns in music preferences and listening habits.\n",
    "\n",
    "Some questions I would like to explore are:\n",
    "- How accurate is my Spotify wrapped data and what can I expect for this year (2024)?\n",
    "- What kind of patterns exist in my listening habits? \n",
    "- Are there any seasonal trends or significant changes in my listening behavior?"
   ]
  },
  {
   "cell_type": "markdown",
   "metadata": {},
   "source": [
    "## Understanding the Data"
   ]
  },
  {
   "cell_type": "markdown",
   "metadata": {},
   "source": [
    "The data was obtained by requesting my extended streaming history from Spotify, which covers the years **2019 to 2024**. The dataset consists of JSON files for each year, containing detailed records of every track I played on Spotify, since the creation of my account.\n",
    "\n",
    "The data is in good quality overall, with minimal missing values, primarily in non critical fields like `episode_name`. Spotify's data attributes<sup>[1]</sup>, are also well structured. For wrapped data used in later sections, I manually made it from the playlists I had for the available years."
   ]
  },
  {
   "cell_type": "markdown",
   "metadata": {},
   "source": [
    "## Data Preparation"
   ]
  },
  {
   "cell_type": "markdown",
   "metadata": {},
   "source": [
    "The dataset was generally clean, requiring minimal processing. Non-informative fields were removed, missing values in critical columns were also removed, and data types were standardized."
   ]
  },
  {
   "cell_type": "markdown",
   "metadata": {},
   "source": [
    "### Import Libraries"
   ]
  },
  {
   "cell_type": "code",
   "execution_count": 1,
   "metadata": {},
   "outputs": [],
   "source": [
    "import glob\n",
    "import json\n",
    "import os\n",
    "\n",
    "import matplotlib.pyplot as plt\n",
    "import numpy as np\n",
    "import pandas as pd\n",
    "import plotly.express as px\n",
    "import seaborn as sns"
   ]
  },
  {
   "cell_type": "markdown",
   "metadata": {},
   "source": [
    "### Load data"
   ]
  },
  {
   "cell_type": "code",
   "execution_count": 2,
   "metadata": {},
   "outputs": [],
   "source": [
    "# Read and concatenate JSON files\n",
    "path_to_files = './my_data/'\n",
    "all_files = glob.glob(os.path.join(path_to_files, '*.json'))\n",
    "\n",
    "dataframes = []\n",
    "for file in all_files:\n",
    "    with open(file, 'r', encoding='utf-8') as f:\n",
    "        data = json.load(f)\n",
    "        df_temp = pd.DataFrame(data)\n",
    "        dataframes.append(df_temp)\n",
    "\n",
    "df = pd.concat(dataframes, ignore_index=True)"
   ]
  },
  {
   "cell_type": "markdown",
   "metadata": {},
   "source": [
    "### Data Cleaning and Transformation"
   ]
  },
  {
   "cell_type": "code",
   "execution_count": 3,
   "metadata": {},
   "outputs": [],
   "source": [
    "# Drop columns that are not needed, as well as values where song name is missing\n",
    "df.drop(['username', 'ip_addr_decrypted', 'platform', 'user_agent_decrypted', 'master_metadata_album_album_name', 'episode_name', 'episode_show_name', 'spotify_track_uri', 'offline', 'spotify_episode_uri', 'offline_timestamp', 'incognito_mode'], axis=1, inplace=True)\n",
    "df = df.dropna(subset=['master_metadata_track_name'])"
   ]
  },
  {
   "cell_type": "code",
   "execution_count": 4,
   "metadata": {},
   "outputs": [],
   "source": [
    "# Convert ts to datetime object\n",
    "df['ts'] = pd.to_datetime(df['ts'])"
   ]
  },
  {
   "cell_type": "code",
   "execution_count": 5,
   "metadata": {},
   "outputs": [],
   "source": [
    "# Add date components to the dataframe\n",
    "df['date'] = df['ts'].dt.date\n",
    "df['year'] = df['ts'].dt.year\n",
    "df['month'] = df['ts'].dt.month\n",
    "df['day'] = df['ts'].dt.day\n",
    "df['hour'] = df['ts'].dt.hour\n",
    "df['day_of_week'] = df['ts'].dt.day_name()"
   ]
  },
  {
   "cell_type": "code",
   "execution_count": 6,
   "metadata": {},
   "outputs": [],
   "source": [
    "# Calculate minutes and hours played\n",
    "df['minutes_played'] = (df['ms_played'] / 60000).round(2)\n",
    "df['hours_played'] = (df['ms_played'] / 3600000).round(2)"
   ]
  },
  {
   "cell_type": "code",
   "execution_count": 7,
   "metadata": {},
   "outputs": [],
   "source": [
    "# Sort the dataframe by timestamp and rename all columns\n",
    "df.sort_values(by='ts', ascending=True, inplace=True)\n",
    "df.columns = ['Timestamp', 'Milliseconds Played', 'Country', 'Song Name', 'Artist', 'Start Reason', 'End Reason', 'Shuffle', 'Skipped', 'Date', 'Year', 'Month', 'Day', 'Hour', 'Day of Week', 'Minutes Played', 'Hours Played']"
   ]
  },
  {
   "cell_type": "code",
   "execution_count": 8,
   "metadata": {},
   "outputs": [],
   "source": [
    "# Change country codes to country names\n",
    "def map_country_codes(code):\n",
    "    country_mapping = {\n",
    "        'NA': 'Namibia',\n",
    "        'DE': 'Germany',\n",
    "        'US': 'United States',\n",
    "        'IT': 'Italy',\n",
    "        'ZZ': 'South Africa', #ZZ is an unknown code so I am mapping it to South Africa, as that is the only logical choice given countries I have been to\n",
    "        'ES': 'Spain',\n",
    "        'CA': 'Canada',\n",
    "        'FR': 'France',\n",
    "        'CH': 'Switzerland',\n",
    "        'GB': 'United Kingdom',\n",
    "        'LU': 'Luxembourg',\n",
    "        'SE': 'Sweden',\n",
    "    }\n",
    "    \n",
    "    return country_mapping.get(code, code)\n",
    "\n",
    "df['Country'] = df['Country'].apply(map_country_codes)\n"
   ]
  },
  {
   "cell_type": "markdown",
   "metadata": {},
   "source": [
    "## Exploratory Data Analysis"
   ]
  },
  {
   "cell_type": "markdown",
   "metadata": {},
   "source": [
    "### Descriptive Stats for Minutes Played"
   ]
  },
  {
   "cell_type": "code",
   "execution_count": 9,
   "metadata": {},
   "outputs": [
    {
     "name": "stdout",
     "output_type": "stream",
     "text": [
      "Shape of the dataframe: (101628, 17)\n",
      "Date Range: 2019-03-10 09:30:04+00:00 to 2024-10-22 21:48:39+00:00\n",
      "\n",
      "Statistics for 'Minutes Played':\n",
      "count    101628.00\n",
      "mean          2.06\n",
      "std           2.02\n",
      "min           0.00\n",
      "25%           0.04\n",
      "50%           2.03\n",
      "75%           3.56\n",
      "max          18.31\n",
      "Name: Minutes Played, dtype: float64\n"
     ]
    }
   ],
   "source": [
    "print(\"Shape of the dataframe:\", df.shape)\n",
    "print(\"Date Range:\", df['Timestamp'].min(), \"to\", df['Timestamp'].max())\n",
    "print(\"\\nStatistics for 'Minutes Played':\")\n",
    "print(df['Minutes Played'].describe().round(2))"
   ]
  },
  {
   "cell_type": "markdown",
   "metadata": {},
   "source": [
    "### Visual Analyses of Dataset"
   ]
  },
  {
   "cell_type": "markdown",
   "metadata": {},
   "source": [
    "#### Listening Time"
   ]
  },
  {
   "cell_type": "markdown",
   "metadata": {},
   "source": [
    "##### Total Listening Time"
   ]
  },
  {
   "cell_type": "markdown",
   "metadata": {},
   "source": [
    "2020 had the highest listening time (~1000 hours), while 2024 showed a steep decline (~200 hours).\n",
    "\n",
    "Full years (2020-2023),  where data is available from January 1st to December 31st, averaged about 697 hrs of listening per year with a standard deviation of 181. 2019 and 2024 are not full years as they have missing months."
   ]
  },
  {
   "cell_type": "code",
   "execution_count": 10,
   "metadata": {},
   "outputs": [
    {
     "data": {
      "image/png": "[encoded data removed]",
      "text/plain": [
       "<Figure size 800x600 with 1 Axes>"
      ]
     },
     "metadata": {},
     "output_type": "display_data"
    }
   ],
   "source": [
    "yearly_listening = df.groupby('Year')['Hours Played'].sum().reset_index()\n",
    "\n",
    "plt.figure(figsize=(8,6))\n",
    "sns.barplot(data=yearly_listening, x='Year', y='Hours Played', palette='crest', hue='Year', legend=False)\n",
    "sns.set_style(\"whitegrid\")\n",
    "\n",
    "plt.yticks(np.arange(0, yearly_listening['Hours Played'].max() + 100, 100))\n",
    "\n",
    "plt.title('Total Yearly Listening Time')\n",
    "plt.xlabel('Year')\n",
    "plt.ylabel('Total Hours Played')\n",
    "plt.figtext(0.5, 0, \"Fig.: Barchart showing total listening time by year, in hours.\", ha=\"center\", fontsize=12, wrap=True)\n",
    "\n",
    "plt.show()"
   ]
  },
  {
   "cell_type": "code",
   "execution_count": 11,
   "metadata": {},
   "outputs": [
    {
     "name": "stdout",
     "output_type": "stream",
     "text": [
      "\n",
      "Average Listening Time per Year for Full Years: 696.71 hours\n"
     ]
    }
   ],
   "source": [
    "# Average listening of full years\n",
    "full_years_listening = df[df['Year'].isin([2020, 2021, 2022, 2023])]\n",
    "full_years_listening_hours = full_years_listening.groupby('Year')['Hours Played'].sum().reset_index()\n",
    "\n",
    "fy_avg_listening = full_years_listening_hours['Hours Played'].mean()\n",
    "print(\"\\nAverage Listening Time per Year for Full Years:\", fy_avg_listening.round(2) , \"hours\")"
   ]
  },
  {
   "cell_type": "code",
   "execution_count": 12,
   "metadata": {},
   "outputs": [
    {
     "name": "stdout",
     "output_type": "stream",
     "text": [
      "\n",
      "Standard Deviation of Listening Time per Year: 181.32591860606507\n"
     ]
    }
   ],
   "source": [
    "# Standard deviation\n",
    "fy_std_listening = full_years_listening_hours['Hours Played'].std()\n",
    "print(\"\\nStandard Deviation of Listening Time per Year:\", fy_std_listening)"
   ]
  },
  {
   "cell_type": "markdown",
   "metadata": {},
   "source": [
    "##### Monthly Listening Patterns"
   ]
  },
  {
   "cell_type": "markdown",
   "metadata": {},
   "source": [
    "Monthly listening patterns show occasional spikes, typically aligned with significant life events rather than seasonal trends, as opposed to any seasonal trends. For 2024, only February managed to cross above 40 hours, while all other months there is data for, barely or have not even crossed 20 hours."
   ]
  },
  {
   "cell_type": "code",
   "execution_count": 13,
   "metadata": {},
   "outputs": [
    {
     "data": {
      "image/png": "[encoded data removed]",
      "text/plain": [
       "<Figure size 1800x1000 with 6 Axes>"
      ]
     },
     "metadata": {},
     "output_type": "display_data"
    }
   ],
   "source": [
    "years = range(2019, 2025) \n",
    "\n",
    "max_hours = df[df['Year'].isin(years)].groupby(['Year', 'Month'])['Hours Played'].sum().max()\n",
    "max_hours_rounded = np.ceil(max_hours / 20) * 20\n",
    "\n",
    "sns.set_style(\"whitegrid\")\n",
    "fig, axes = plt.subplots(2, 3, figsize=(18, 10))  # Create a 2x3 grid of subplots\n",
    "axes = axes.flatten()  # Flatten the axes array for easy iteration\n",
    "\n",
    "for i, year in enumerate(years):\n",
    "    # Filter data for the current year\n",
    "    df_year = df[df['Year'] == year]\n",
    "    monthly_listening = df_year.groupby('Month')['Hours Played'].sum().reset_index()\n",
    "    monthly_listening = monthly_listening.sort_values('Month')\n",
    "\n",
    "    # Plot for the current year on the respective subplot\n",
    "    sns.barplot(data=monthly_listening, x='Month', y='Hours Played', palette='crest', ax=axes[i], hue='Month', legend=False)\n",
    "    \n",
    "    # Set y-axis limit for consistency with max value being the next multiple of 20 from the max_hours\n",
    "    axes[i].set_ylim(0, max_hours_rounded)\n",
    "    \n",
    "    # Set titles and labels for each subplot\n",
    "    axes[i].set_title(f'Total Monthly Listening Time in {year}')\n",
    "    axes[i].set_xlabel('Month')\n",
    "    axes[i].set_ylabel('Total Hours Played')\n",
    "\n",
    "# Adjust layout and add a common figure title\n",
    "fig.tight_layout(pad=3.0)\n",
    "fig.suptitle(\"Monthly Listening Time by Year (2019-2024)\", fontsize=16, y=1.01)\n",
    "plt.figtext(0.5, -0.01, \"Fig.: Bar charts showing total listening time per month for each year, in hours.\", \n",
    "            ha=\"center\", fontsize=12, wrap=True)\n",
    "\n",
    "plt.show()"
   ]
  },
  {
   "cell_type": "markdown",
   "metadata": {},
   "source": [
    "##### Overall Listening Activity"
   ]
  },
  {
   "cell_type": "markdown",
   "metadata": {},
   "source": [
    "Listening activity peaks between midnight and 7 AM, with Sunday showing the most consistent daytime activity."
   ]
  },
  {
   "cell_type": "code",
   "execution_count": 14,
   "metadata": {},
   "outputs": [
    {
     "data": {
      "image/png": "[encoded data removed]",
      "text/plain": [
       "<Figure size 800x600 with 2 Axes>"
      ]
     },
     "metadata": {},
     "output_type": "display_data"
    }
   ],
   "source": [
    "heatmap_data = df.pivot_table(index='Day of Week', columns='Hour', values='Minutes Played', aggfunc='mean')\n",
    "days_order = ['Monday', 'Tuesday', 'Wednesday', 'Thursday', 'Friday', 'Saturday', 'Sunday']\n",
    "heatmap_data = heatmap_data.reindex(days_order)\n",
    "\n",
    "plt.figure(figsize=(8,6))\n",
    "sns.heatmap(heatmap_data, cmap='magma')\n",
    "\n",
    "plt.title('Overall Average Listening Activity (Minutes Played)')\n",
    "plt.xlabel('Time')\n",
    "plt.ylabel('Day')\n",
    "plt.figtext(0.5, -0.05, \"Fig.: Heatmap showing daily average listening activity across for\\nthe years 2019-2024, in minutes.\", ha=\"center\", fontsize=12, wrap=True)\n",
    "\n",
    "plt.show()"
   ]
  },
  {
   "cell_type": "markdown",
   "metadata": {},
   "source": [
    "##### Annual Listening Activity Heatmaps"
   ]
  },
  {
   "cell_type": "markdown",
   "metadata": {},
   "source": [
    "Listening activity declined significantly after 2020, with reduced engagement during late-night hours in 2022 and beyond."
   ]
  },
  {
   "cell_type": "code",
   "execution_count": 15,
   "metadata": {},
   "outputs": [
    {
     "data": {
      "image/png": "[encoded data removed]",
      "text/plain": [
       "<Figure size 1800x1000 with 12 Axes>"
      ]
     },
     "metadata": {},
     "output_type": "display_data"
    }
   ],
   "source": [
    "years = range(2019, 2025)\n",
    "\n",
    "def get_heatmap_data_for_year(df, year):\n",
    "    yearly_data = df[df['Year'] == year]\n",
    "    heatmap_data = yearly_data.pivot_table(index='Day of Week', columns='Hour', values='Minutes Played', aggfunc='mean')\n",
    "    \n",
    "    # Order days from Monday to Sunday\n",
    "    days_order = ['Monday', 'Tuesday', 'Wednesday', 'Thursday', 'Friday', 'Saturday', 'Sunday']\n",
    "    heatmap_data = heatmap_data.reindex(days_order)\n",
    "    \n",
    "    return heatmap_data\n",
    "\n",
    "# Set up a grid of subplots for each year\n",
    "fig, axes = plt.subplots(2, 3, figsize=(18, 10))\n",
    "axes = axes.flatten()\n",
    "\n",
    "for i, year in enumerate(years):\n",
    "    # Generate heatmap data for the current year\n",
    "    heatmap_data = get_heatmap_data_for_year(df, year)\n",
    "    \n",
    "    # Plot heatmap on the current axis\n",
    "    sns.heatmap(heatmap_data, cmap='magma', cbar=True, ax=axes[i])\n",
    "    \n",
    "    # Set title and labels for each subplot\n",
    "    axes[i].set_title(f'Average Listening Activity - {year}')\n",
    "    axes[i].set_xlabel('Hour')\n",
    "    axes[i].set_ylabel('Day of Week')\n",
    "    axes[i].set_xticks([x + 0.5 for x in range(24)])\n",
    "    axes[i].set_xticklabels(range(24))\n",
    "\n",
    "# Adjust layout and add a common title for the figure\n",
    "fig.tight_layout(pad=3.0)\n",
    "fig.suptitle(\"Average Listening Activity (Minutes Played) by Year (2019-2024)\", fontsize=16, y=1.01)\n",
    "plt.figtext(0.5, 0, \"Fig.: Heatmaps showing average listening activity throughout each week, for each year, in minutes.\", \n",
    "            ha=\"center\", fontsize=12, wrap=True)\n",
    "\n",
    "plt.show()"
   ]
  },
  {
   "cell_type": "code",
   "execution_count": 16,
   "metadata": {},
   "outputs": [
    {
     "name": "stdout",
     "output_type": "stream",
     "text": [
      "\n",
      "Average Listening Time on Weekdays: 2.04 minutes\n",
      "Average Listening Time on Weekends: 2.11 minutes\n"
     ]
    }
   ],
   "source": [
    "# Average listening time on weekdays vs on weekends\n",
    "\n",
    "df['Is Weekend'] = df['Day of Week'].isin(['Saturday', 'Sunday'])\n",
    "weekend_listening = df.groupby('Is Weekend')['Minutes Played'].mean()\n",
    "weekday_listening = df.groupby(df['Is Weekend']== False)['Minutes Played'].mean()\n",
    "\n",
    "print(\"\\nAverage Listening Time on Weekdays:\", weekday_listening[True].round(2), \"minutes\")\n",
    "print(\"Average Listening Time on Weekends:\", weekend_listening[True].round(2), \"minutes\")"
   ]
  },
  {
   "cell_type": "markdown",
   "metadata": {},
   "source": [
    "##### Average Listening Time by Country"
   ]
  },
  {
   "cell_type": "markdown",
   "metadata": {},
   "source": [
    "Location tracking does not seem to be accurate as Spotify has data for countries I have never been to, notably Canada and Sweden. The US has my longest average listening time, followed by Luxembourg and Namibia."
   ]
  },
  {
   "cell_type": "code",
   "execution_count": 17,
   "metadata": {},
   "outputs": [
    {
     "data": {
      "application/vnd.plotly.v1+json": {
       "config": {
        "plotlyServerURL": "https://plot.ly"
       },
       "data": [
        {
         "coloraxis": "coloraxis",
         "geo": "geo",
         "hovertemplate": "Country=%{location}<br>Average Minutes Played=%{z}<extra></extra>",
         "locationmode": "country names",
         "locations": [
          "Canada",
          "France",
          "Germany",
          "Italy",
          "Luxembourg",
          "Namibia",
          "South Africa",
          "Spain",
          "Sweden",
          "Switzerland",
          "United Kingdom",
          "United States"
         ],
         "name": "",
         "type": "choropleth",
         "z": [
          1.8313978494623655,
          0.9549462365591398,
          1.7814764387407258,
          1.7895669291338583,
          2.8122580645161293,
          2.3347579756874213,
          1.837734375,
          1.7713592233009707,
          0.64,
          1.4671666666666667,
          1.498490566037736,
          3.0336158940397353
         ]
        }
       ],
       "layout": {
        "coloraxis": {
         "colorbar": {
          "title": {
           "text": "Average Minutes Played"
          }
         },
         "colorscale": [
          [
           0,
           "#000004"
          ],
          [
           0.1111111111111111,
           "#180f3d"
          ],
          [
           0.2222222222222222,
           "#440f76"
          ],
          [
           0.3333333333333333,
           "#721f81"
          ],
          [
           0.4444444444444444,
           "#9e2f7f"
          ],
          [
           0.5555555555555556,
           "#cd4071"
          ],
          [
           0.6666666666666666,
           "#f1605d"
          ],
          [
           0.7777777777777778,
           "#fd9668"
          ],
          [
           0.8888888888888888,
           "#feca8d"
          ],
          [
           1,
           "#fcfdbf"
          ]
         ]
        },
        "geo": {
         "center": {},
         "domain": {
          "x": [
           0,
           1
          ],
          "y": [
           0,
           1
          ]
         }
        },
        "legend": {
         "tracegroupgap": 0
        },
        "template": {
         "data": {
          "bar": [
           {
            "error_x": {
             "color": "#2a3f5f"
            },
            "error_y": {
             "color": "#2a3f5f"
            },
            "marker": {
             "line": {
              "color": "#E5ECF6",
              "width": 0.5
             },
             "pattern": {
              "fillmode": "overlay",
              "size": 10,
              "solidity": 0.2
             }
            },
            "type": "bar"
           }
          ],
          "barpolar": [
           {
            "marker": {
             "line": {
              "color": "#E5ECF6",
              "width": 0.5
             },
             "pattern": {
              "fillmode": "overlay",
              "size": 10,
              "solidity": 0.2
             }
            },
            "type": "barpolar"
           }
          ],
          "carpet": [
           {
            "aaxis": {
             "endlinecolor": "#2a3f5f",
             "gridcolor": "white",
             "linecolor": "white",
             "minorgridcolor": "white",
             "startlinecolor": "#2a3f5f"
            },
            "baxis": {
             "endlinecolor": "#2a3f5f",
             "gridcolor": "white",
             "linecolor": "white",
             "minorgridcolor": "white",
             "startlinecolor": "#2a3f5f"
            },
            "type": "carpet"
           }
          ],
          "choropleth": [
           {
            "colorbar": {
             "outlinewidth": 0,
             "ticks": ""
            },
            "type": "choropleth"
           }
          ],
          "contour": [
           {
            "colorbar": {
             "outlinewidth": 0,
             "ticks": ""
            },
            "colorscale": [
             [
              0,
              "#0d0887"
             ],
             [
              0.1111111111111111,
              "#46039f"
             ],
             [
              0.2222222222222222,
              "#7201a8"
             ],
             [
              0.3333333333333333,
              "#9c179e"
             ],
             [
              0.4444444444444444,
              "#bd3786"
             ],
             [
              0.5555555555555556,
              "#d8576b"
             ],
             [
              0.6666666666666666,
              "#ed7953"
             ],
             [
              0.7777777777777778,
              "#fb9f3a"
             ],
             [
              0.8888888888888888,
              "#fdca26"
             ],
             [
              1,
              "#f0f921"
             ]
            ],
            "type": "contour"
           }
          ],
          "contourcarpet": [
           {
            "colorbar": {
             "outlinewidth": 0,
             "ticks": ""
            },
            "type": "contourcarpet"
           }
          ],
          "heatmap": [
           {
            "colorbar": {
             "outlinewidth": 0,
             "ticks": ""
            },
            "colorscale": [
             [
              0,
              "#0d0887"
             ],
             [
              0.1111111111111111,
              "#46039f"
             ],
             [
              0.2222222222222222,
              "#7201a8"
             ],
             [
              0.3333333333333333,
              "#9c179e"
             ],
             [
              0.4444444444444444,
              "#bd3786"
             ],
             [
              0.5555555555555556,
              "#d8576b"
             ],
             [
              0.6666666666666666,
              "#ed7953"
             ],
             [
              0.7777777777777778,
              "#fb9f3a"
             ],
             [
              0.8888888888888888,
              "#fdca26"
             ],
             [
              1,
              "#f0f921"
             ]
            ],
            "type": "heatmap"
           }
          ],
          "heatmapgl": [
           {
            "colorbar": {
             "outlinewidth": 0,
             "ticks": ""
            },
            "colorscale": [
             [
              0,
              "#0d0887"
             ],
             [
              0.1111111111111111,
              "#46039f"
             ],
             [
              0.2222222222222222,
              "#7201a8"
             ],
             [
              0.3333333333333333,
              "#9c179e"
             ],
             [
              0.4444444444444444,
              "#bd3786"
             ],
             [
              0.5555555555555556,
              "#d8576b"
             ],
             [
              0.6666666666666666,
              "#ed7953"
             ],
             [
              0.7777777777777778,
              "#fb9f3a"
             ],
             [
              0.8888888888888888,
              "#fdca26"
             ],
             [
              1,
              "#f0f921"
             ]
            ],
            "type": "heatmapgl"
           }
          ],
          "histogram": [
           {
            "marker": {
             "pattern": {
              "fillmode": "overlay",
              "size": 10,
              "solidity": 0.2
             }
            },
            "type": "histogram"
           }
          ],
          "histogram2d": [
           {
            "colorbar": {
             "outlinewidth": 0,
             "ticks": ""
            },
            "colorscale": [
             [
              0,
              "#0d0887"
             ],
             [
              0.1111111111111111,
              "#46039f"
             ],
             [
              0.2222222222222222,
              "#7201a8"
             ],
             [
              0.3333333333333333,
              "#9c179e"
             ],
             [
              0.4444444444444444,
              "#bd3786"
             ],
             [
              0.5555555555555556,
              "#d8576b"
             ],
             [
              0.6666666666666666,
              "#ed7953"
             ],
             [
              0.7777777777777778,
              "#fb9f3a"
             ],
             [
              0.8888888888888888,
              "#fdca26"
             ],
             [
              1,
              "#f0f921"
             ]
            ],
            "type": "histogram2d"
           }
          ],
          "histogram2dcontour": [
           {
            "colorbar": {
             "outlinewidth": 0,
             "ticks": ""
            },
            "colorscale": [
             [
              0,
              "#0d0887"
             ],
             [
              0.1111111111111111,
              "#46039f"
             ],
             [
              0.2222222222222222,
              "#7201a8"
             ],
             [
              0.3333333333333333,
              "#9c179e"
             ],
             [
              0.4444444444444444,
              "#bd3786"
             ],
             [
              0.5555555555555556,
              "#d8576b"
             ],
             [
              0.6666666666666666,
              "#ed7953"
             ],
             [
              0.7777777777777778,
              "#fb9f3a"
             ],
             [
              0.8888888888888888,
              "#fdca26"
             ],
             [
              1,
              "#f0f921"
             ]
            ],
            "type": "histogram2dcontour"
           }
          ],
          "mesh3d": [
           {
            "colorbar": {
             "outlinewidth": 0,
             "ticks": ""
            },
            "type": "mesh3d"
           }
          ],
          "parcoords": [
           {
            "line": {
             "colorbar": {
              "outlinewidth": 0,
              "ticks": ""
             }
            },
            "type": "parcoords"
           }
          ],
          "pie": [
           {
            "automargin": true,
            "type": "pie"
           }
          ],
          "scatter": [
           {
            "fillpattern": {
             "fillmode": "overlay",
             "size": 10,
             "solidity": 0.2
            },
            "type": "scatter"
           }
          ],
          "scatter3d": [
           {
            "line": {
             "colorbar": {
              "outlinewidth": 0,
              "ticks": ""
             }
            },
            "marker": {
             "colorbar": {
              "outlinewidth": 0,
              "ticks": ""
             }
            },
            "type": "scatter3d"
           }
          ],
          "scattercarpet": [
           {
            "marker": {
             "colorbar": {
              "outlinewidth": 0,
              "ticks": ""
             }
            },
            "type": "scattercarpet"
           }
          ],
          "scattergeo": [
           {
            "marker": {
             "colorbar": {
              "outlinewidth": 0,
              "ticks": ""
             }
            },
            "type": "scattergeo"
           }
          ],
          "scattergl": [
           {
            "marker": {
             "colorbar": {
              "outlinewidth": 0,
              "ticks": ""
             }
            },
            "type": "scattergl"
           }
          ],
          "scattermapbox": [
           {
            "marker": {
             "colorbar": {
              "outlinewidth": 0,
              "ticks": ""
             }
            },
            "type": "scattermapbox"
           }
          ],
          "scatterpolar": [
           {
            "marker": {
             "colorbar": {
              "outlinewidth": 0,
              "ticks": ""
             }
            },
            "type": "scatterpolar"
           }
          ],
          "scatterpolargl": [
           {
            "marker": {
             "colorbar": {
              "outlinewidth": 0,
              "ticks": ""
             }
            },
            "type": "scatterpolargl"
           }
          ],
          "scatterternary": [
           {
            "marker": {
             "colorbar": {
              "outlinewidth": 0,
              "ticks": ""
             }
            },
            "type": "scatterternary"
           }
          ],
          "surface": [
           {
            "colorbar": {
             "outlinewidth": 0,
             "ticks": ""
            },
            "colorscale": [
             [
              0,
              "#0d0887"
             ],
             [
              0.1111111111111111,
              "#46039f"
             ],
             [
              0.2222222222222222,
              "#7201a8"
             ],
             [
              0.3333333333333333,
              "#9c179e"
             ],
             [
              0.4444444444444444,
              "#bd3786"
             ],
             [
              0.5555555555555556,
              "#d8576b"
             ],
             [
              0.6666666666666666,
              "#ed7953"
             ],
             [
              0.7777777777777778,
              "#fb9f3a"
             ],
             [
              0.8888888888888888,
              "#fdca26"
             ],
             [
              1,
              "#f0f921"
             ]
            ],
            "type": "surface"
           }
          ],
          "table": [
           {
            "cells": {
             "fill": {
              "color": "#EBF0F8"
             },
             "line": {
              "color": "white"
             }
            },
            "header": {
             "fill": {
              "color": "#C8D4E3"
             },
             "line": {
              "color": "white"
             }
            },
            "type": "table"
           }
          ]
         },
         "layout": {
          "annotationdefaults": {
           "arrowcolor": "#2a3f5f",
           "arrowhead": 0,
           "arrowwidth": 1
          },
          "autotypenumbers": "strict",
          "coloraxis": {
           "colorbar": {
            "outlinewidth": 0,
            "ticks": ""
           }
          },
          "colorscale": {
           "diverging": [
            [
             0,
             "#8e0152"
            ],
            [
             0.1,
             "#c51b7d"
            ],
            [
             0.2,
             "#de77ae"
            ],
            [
             0.3,
             "#f1b6da"
            ],
            [
             0.4,
             "#fde0ef"
            ],
            [
             0.5,
             "#f7f7f7"
            ],
            [
             0.6,
             "#e6f5d0"
            ],
            [
             0.7,
             "#b8e186"
            ],
            [
             0.8,
             "#7fbc41"
            ],
            [
             0.9,
             "#4d9221"
            ],
            [
             1,
             "#276419"
            ]
           ],
           "sequential": [
            [
             0,
             "#0d0887"
            ],
            [
             0.1111111111111111,
             "#46039f"
            ],
            [
             0.2222222222222222,
             "#7201a8"
            ],
            [
             0.3333333333333333,
             "#9c179e"
            ],
            [
             0.4444444444444444,
             "#bd3786"
            ],
            [
             0.5555555555555556,
             "#d8576b"
            ],
            [
             0.6666666666666666,
             "#ed7953"
            ],
            [
             0.7777777777777778,
             "#fb9f3a"
            ],
            [
             0.8888888888888888,
             "#fdca26"
            ],
            [
             1,
             "#f0f921"
            ]
           ],
           "sequentialminus": [
            [
             0,
             "#0d0887"
            ],
            [
             0.1111111111111111,
             "#46039f"
            ],
            [
             0.2222222222222222,
             "#7201a8"
            ],
            [
             0.3333333333333333,
             "#9c179e"
            ],
            [
             0.4444444444444444,
             "#bd3786"
            ],
            [
             0.5555555555555556,
             "#d8576b"
            ],
            [
             0.6666666666666666,
             "#ed7953"
            ],
            [
             0.7777777777777778,
             "#fb9f3a"
            ],
            [
             0.8888888888888888,
             "#fdca26"
            ],
            [
             1,
             "#f0f921"
            ]
           ]
          },
          "colorway": [
           "#636efa",
           "#EF553B",
           "#00cc96",
           "#ab63fa",
           "#FFA15A",
           "#19d3f3",
           "#FF6692",
           "#B6E880",
           "#FF97FF",
           "#FECB52"
          ],
          "font": {
           "color": "#2a3f5f"
          },
          "geo": {
           "bgcolor": "white",
           "lakecolor": "white",
           "landcolor": "#E5ECF6",
           "showlakes": true,
           "showland": true,
           "subunitcolor": "white"
          },
          "hoverlabel": {
           "align": "left"
          },
          "hovermode": "closest",
          "mapbox": {
           "style": "light"
          },
          "paper_bgcolor": "white",
          "plot_bgcolor": "#E5ECF6",
          "polar": {
           "angularaxis": {
            "gridcolor": "white",
            "linecolor": "white",
            "ticks": ""
           },
           "bgcolor": "#E5ECF6",
           "radialaxis": {
            "gridcolor": "white",
            "linecolor": "white",
            "ticks": ""
           }
          },
          "scene": {
           "xaxis": {
            "backgroundcolor": "#E5ECF6",
            "gridcolor": "white",
            "gridwidth": 2,
            "linecolor": "white",
            "showbackground": true,
            "ticks": "",
            "zerolinecolor": "white"
           },
           "yaxis": {
            "backgroundcolor": "#E5ECF6",
            "gridcolor": "white",
            "gridwidth": 2,
            "linecolor": "white",
            "showbackground": true,
            "ticks": "",
            "zerolinecolor": "white"
           },
           "zaxis": {
            "backgroundcolor": "#E5ECF6",
            "gridcolor": "white",
            "gridwidth": 2,
            "linecolor": "white",
            "showbackground": true,
            "ticks": "",
            "zerolinecolor": "white"
           }
          },
          "shapedefaults": {
           "line": {
            "color": "#2a3f5f"
           }
          },
          "ternary": {
           "aaxis": {
            "gridcolor": "white",
            "linecolor": "white",
            "ticks": ""
           },
           "baxis": {
            "gridcolor": "white",
            "linecolor": "white",
            "ticks": ""
           },
           "bgcolor": "#E5ECF6",
           "caxis": {
            "gridcolor": "white",
            "linecolor": "white",
            "ticks": ""
           }
          },
          "title": {
           "x": 0.05
          },
          "xaxis": {
           "automargin": true,
           "gridcolor": "white",
           "linecolor": "white",
           "ticks": "",
           "title": {
            "standoff": 15
           },
           "zerolinecolor": "white",
           "zerolinewidth": 2
          },
          "yaxis": {
           "automargin": true,
           "gridcolor": "white",
           "linecolor": "white",
           "ticks": "",
           "title": {
            "standoff": 15
           },
           "zerolinecolor": "white",
           "zerolinewidth": 2
          }
         }
        },
        "title": {
         "text": "Average Listening Time by Country"
        }
       }
      }
     },
     "metadata": {},
     "output_type": "display_data"
    }
   ],
   "source": [
    "country_avg_minutes = df.groupby('Country')['Minutes Played'].mean().reset_index()\n",
    "country_avg_minutes.columns = ['Country', 'Average Minutes Played']\n",
    "\n",
    "fig = px.choropleth(\n",
    "    country_avg_minutes,\n",
    "    locations='Country',\n",
    "    locationmode='country names',\n",
    "    color='Average Minutes Played',\n",
    "    title='Average Listening Time by Country',\n",
    "    color_continuous_scale='magma'\n",
    ")\n",
    "\n",
    "fig.show()"
   ]
  },
  {
   "cell_type": "markdown",
   "metadata": {},
   "source": [
    "#### Top Artists and Songs"
   ]
  },
  {
   "cell_type": "markdown",
   "metadata": {},
   "source": [
    "##### Top Songs and Artists of All Time for Dataset"
   ]
  },
  {
   "cell_type": "markdown",
   "metadata": {},
   "source": [
    "My most listened to artist has over 60 hours of listening, however only one of their songs are actually in my top 10 listened to songs."
   ]
  },
  {
   "cell_type": "code",
   "execution_count": 18,
   "metadata": {},
   "outputs": [
    {
     "data": {
      "text/html": [
       "<div>\n",
       "<style scoped>\n",
       "    .dataframe tbody tr th:only-of-type {\n",
       "        vertical-align: middle;\n",
       "    }\n",
       "\n",
       "    .dataframe tbody tr th {\n",
       "        vertical-align: top;\n",
       "    }\n",
       "\n",
       "    .dataframe thead th {\n",
       "        text-align: right;\n",
       "    }\n",
       "</style>\n",
       "<table border=\"1\" class=\"dataframe\">\n",
       "  <thead>\n",
       "    <tr style=\"text-align: right;\">\n",
       "      <th></th>\n",
       "      <th>Artist</th>\n",
       "      <th>Hours Played</th>\n",
       "    </tr>\n",
       "  </thead>\n",
       "  <tbody>\n",
       "    <tr>\n",
       "      <th>1</th>\n",
       "      <td>RÜFÜS DU SOL</td>\n",
       "      <td>63.38</td>\n",
       "    </tr>\n",
       "    <tr>\n",
       "      <th>2</th>\n",
       "      <td>AnnenMayKantereit</td>\n",
       "      <td>39.61</td>\n",
       "    </tr>\n",
       "    <tr>\n",
       "      <th>3</th>\n",
       "      <td>The Blaze</td>\n",
       "      <td>33.41</td>\n",
       "    </tr>\n",
       "    <tr>\n",
       "      <th>4</th>\n",
       "      <td>Fynn Kliemann</td>\n",
       "      <td>29.45</td>\n",
       "    </tr>\n",
       "    <tr>\n",
       "      <th>5</th>\n",
       "      <td>Lastlings</td>\n",
       "      <td>24.99</td>\n",
       "    </tr>\n",
       "    <tr>\n",
       "      <th>6</th>\n",
       "      <td>Son Lux</td>\n",
       "      <td>21.43</td>\n",
       "    </tr>\n",
       "    <tr>\n",
       "      <th>7</th>\n",
       "      <td>Lorde</td>\n",
       "      <td>21.40</td>\n",
       "    </tr>\n",
       "    <tr>\n",
       "      <th>8</th>\n",
       "      <td>Robinson</td>\n",
       "      <td>20.02</td>\n",
       "    </tr>\n",
       "    <tr>\n",
       "      <th>9</th>\n",
       "      <td>Oliver Riot</td>\n",
       "      <td>19.19</td>\n",
       "    </tr>\n",
       "    <tr>\n",
       "      <th>10</th>\n",
       "      <td>Summer Salt</td>\n",
       "      <td>17.95</td>\n",
       "    </tr>\n",
       "  </tbody>\n",
       "</table>\n",
       "</div>"
      ],
      "text/plain": [
       "               Artist  Hours Played\n",
       "1        RÜFÜS DU SOL         63.38\n",
       "2   AnnenMayKantereit         39.61\n",
       "3           The Blaze         33.41\n",
       "4       Fynn Kliemann         29.45\n",
       "5           Lastlings         24.99\n",
       "6             Son Lux         21.43\n",
       "7               Lorde         21.40\n",
       "8            Robinson         20.02\n",
       "9         Oliver Riot         19.19\n",
       "10        Summer Salt         17.95"
      ]
     },
     "execution_count": 18,
     "metadata": {},
     "output_type": "execute_result"
    }
   ],
   "source": [
    "# Top 10 artists of all time by hours played\n",
    "top_artists = df.groupby('Artist')['Hours Played'].sum().sort_values(ascending=False).head(10).reset_index()\n",
    "top_artists.index += 1\n",
    "top_artists"
   ]
  },
  {
   "cell_type": "code",
   "execution_count": 19,
   "metadata": {},
   "outputs": [
    {
     "data": {
      "text/html": [
       "<div>\n",
       "<style scoped>\n",
       "    .dataframe tbody tr th:only-of-type {\n",
       "        vertical-align: middle;\n",
       "    }\n",
       "\n",
       "    .dataframe tbody tr th {\n",
       "        vertical-align: top;\n",
       "    }\n",
       "\n",
       "    .dataframe thead th {\n",
       "        text-align: right;\n",
       "    }\n",
       "</style>\n",
       "<table border=\"1\" class=\"dataframe\">\n",
       "  <thead>\n",
       "    <tr style=\"text-align: right;\">\n",
       "      <th></th>\n",
       "      <th>Song Name</th>\n",
       "      <th>Artist</th>\n",
       "      <th>Hours Played</th>\n",
       "    </tr>\n",
       "  </thead>\n",
       "  <tbody>\n",
       "    <tr>\n",
       "      <th>1</th>\n",
       "      <td>No Time - RÜFÜS DU SOL Extended Remix</td>\n",
       "      <td>Lastlings</td>\n",
       "      <td>21.10</td>\n",
       "    </tr>\n",
       "    <tr>\n",
       "      <th>2</th>\n",
       "      <td>Don't Trust Myself</td>\n",
       "      <td>Robinson</td>\n",
       "      <td>19.03</td>\n",
       "    </tr>\n",
       "    <tr>\n",
       "      <th>3</th>\n",
       "      <td>Hold Me To The Light</td>\n",
       "      <td>KAS:ST</td>\n",
       "      <td>16.06</td>\n",
       "    </tr>\n",
       "    <tr>\n",
       "      <th>4</th>\n",
       "      <td>#3</td>\n",
       "      <td>Aphex Twin</td>\n",
       "      <td>11.84</td>\n",
       "    </tr>\n",
       "    <tr>\n",
       "      <th>5</th>\n",
       "      <td>Waste - RY X Remix</td>\n",
       "      <td>Rhye</td>\n",
       "      <td>11.80</td>\n",
       "    </tr>\n",
       "    <tr>\n",
       "      <th>6</th>\n",
       "      <td>Particle G1</td>\n",
       "      <td>Hannah Peel</td>\n",
       "      <td>10.77</td>\n",
       "    </tr>\n",
       "    <tr>\n",
       "      <th>7</th>\n",
       "      <td>Aura</td>\n",
       "      <td>Avoure</td>\n",
       "      <td>10.53</td>\n",
       "    </tr>\n",
       "    <tr>\n",
       "      <th>8</th>\n",
       "      <td>New Sky</td>\n",
       "      <td>RÜFÜS DU SOL</td>\n",
       "      <td>10.37</td>\n",
       "    </tr>\n",
       "    <tr>\n",
       "      <th>9</th>\n",
       "      <td>Where Is My Mind</td>\n",
       "      <td>Maxence Cyrin</td>\n",
       "      <td>10.02</td>\n",
       "    </tr>\n",
       "    <tr>\n",
       "      <th>10</th>\n",
       "      <td>Zeal &amp; Ardor Devil is Fine Remix</td>\n",
       "      <td>Monumental Men</td>\n",
       "      <td>9.66</td>\n",
       "    </tr>\n",
       "  </tbody>\n",
       "</table>\n",
       "</div>"
      ],
      "text/plain": [
       "                                Song Name          Artist  Hours Played\n",
       "1   No Time - RÜFÜS DU SOL Extended Remix       Lastlings         21.10\n",
       "2                      Don't Trust Myself        Robinson         19.03\n",
       "3                    Hold Me To The Light          KAS:ST         16.06\n",
       "4                                      #3      Aphex Twin         11.84\n",
       "5                      Waste - RY X Remix            Rhye         11.80\n",
       "6                             Particle G1     Hannah Peel         10.77\n",
       "7                                    Aura          Avoure         10.53\n",
       "8                                 New Sky    RÜFÜS DU SOL         10.37\n",
       "9                        Where Is My Mind   Maxence Cyrin         10.02\n",
       "10       Zeal & Ardor Devil is Fine Remix  Monumental Men          9.66"
      ]
     },
     "execution_count": 19,
     "metadata": {},
     "output_type": "execute_result"
    }
   ],
   "source": [
    "# Top 10 songs (and their artists) of all time by hours played\n",
    "top_songs = df.groupby(['Song Name', 'Artist'])['Hours Played'].sum().sort_values(ascending=False).head(10).reset_index()\n",
    "top_songs.index += 1\n",
    "top_songs"
   ]
  },
  {
   "cell_type": "markdown",
   "metadata": {},
   "source": [
    "##### Top Songs and Artists By Year"
   ]
  },
  {
   "cell_type": "markdown",
   "metadata": {},
   "source": [
    "For the top songs and artists per year, it is much easier to see which are recurring more often. For songs it is still more variable than for artists."
   ]
  },
  {
   "cell_type": "code",
   "execution_count": 20,
   "metadata": {},
   "outputs": [
    {
     "data": {
      "text/html": [
       "<div>\n",
       "<style scoped>\n",
       "    .dataframe tbody tr th:only-of-type {\n",
       "        vertical-align: middle;\n",
       "    }\n",
       "\n",
       "    .dataframe tbody tr th {\n",
       "        vertical-align: top;\n",
       "    }\n",
       "\n",
       "    .dataframe thead th {\n",
       "        text-align: right;\n",
       "    }\n",
       "</style>\n",
       "<table border=\"1\" class=\"dataframe\">\n",
       "  <thead>\n",
       "    <tr style=\"text-align: right;\">\n",
       "      <th></th>\n",
       "      <th></th>\n",
       "      <th>Artist</th>\n",
       "      <th>Hours Played</th>\n",
       "    </tr>\n",
       "    <tr>\n",
       "      <th>Year</th>\n",
       "      <th>Song Name</th>\n",
       "      <th></th>\n",
       "      <th></th>\n",
       "    </tr>\n",
       "  </thead>\n",
       "  <tbody>\n",
       "    <tr>\n",
       "      <th rowspan=\"5\" valign=\"top\">2019</th>\n",
       "      <th>Don't Trust Myself</th>\n",
       "      <td>Robinson</td>\n",
       "      <td>17.80</td>\n",
       "    </tr>\n",
       "    <tr>\n",
       "      <th>Lonely Feelings</th>\n",
       "      <td>LOVE SUPREME</td>\n",
       "      <td>7.23</td>\n",
       "    </tr>\n",
       "    <tr>\n",
       "      <th>Catharsis</th>\n",
       "      <td>Aether</td>\n",
       "      <td>6.36</td>\n",
       "    </tr>\n",
       "    <tr>\n",
       "      <th>Lost In Thought</th>\n",
       "      <td>Jon Hopkins</td>\n",
       "      <td>3.71</td>\n",
       "    </tr>\n",
       "    <tr>\n",
       "      <th>Silvia - Robotberget Remix</th>\n",
       "      <td>Miike Snow</td>\n",
       "      <td>3.04</td>\n",
       "    </tr>\n",
       "    <tr>\n",
       "      <th rowspan=\"5\" valign=\"top\">2024</th>\n",
       "      <th>Aura</th>\n",
       "      <td>Avoure</td>\n",
       "      <td>2.67</td>\n",
       "    </tr>\n",
       "    <tr>\n",
       "      <th>Umoya</th>\n",
       "      <td>Karyendasoul</td>\n",
       "      <td>2.02</td>\n",
       "    </tr>\n",
       "    <tr>\n",
       "      <th>Cooling The Plasma</th>\n",
       "      <td>GuyRo</td>\n",
       "      <td>1.57</td>\n",
       "    </tr>\n",
       "    <tr>\n",
       "      <th>Wish We Could</th>\n",
       "      <td>Nico de Andrea</td>\n",
       "      <td>1.33</td>\n",
       "    </tr>\n",
       "    <tr>\n",
       "      <th>Nocturne</th>\n",
       "      <td>Worakls</td>\n",
       "      <td>1.27</td>\n",
       "    </tr>\n",
       "  </tbody>\n",
       "</table>\n",
       "</div>"
      ],
      "text/plain": [
       "                                         Artist  Hours Played\n",
       "Year Song Name                                               \n",
       "2019 Don't Trust Myself                Robinson         17.80\n",
       "     Lonely Feelings               LOVE SUPREME          7.23\n",
       "     Catharsis                           Aether          6.36\n",
       "     Lost In Thought                Jon Hopkins          3.71\n",
       "     Silvia - Robotberget Remix      Miike Snow          3.04\n",
       "2024 Aura                                Avoure          2.67\n",
       "     Umoya                         Karyendasoul          2.02\n",
       "     Cooling The Plasma                   GuyRo          1.57\n",
       "     Wish We Could               Nico de Andrea          1.33\n",
       "     Nocturne                           Worakls          1.27"
      ]
     },
     "execution_count": 20,
     "metadata": {},
     "output_type": "execute_result"
    }
   ],
   "source": [
    "years = [2019, 2024]\n",
    "n_artists = 5\n",
    "\n",
    "all_years_data = []\n",
    "\n",
    "# Loop through each year and get the top n artists\n",
    "for year in years:\n",
    "    yearly_data = df[df['Year'] == year]\n",
    "    top_songs_year = yearly_data.groupby(['Song Name', 'Artist'])['Hours Played'].sum().sort_values(ascending=False).head(n_artists).reset_index()\n",
    "    top_songs_year['Year'] = year\n",
    "    all_years_data.append(top_songs_year)\n",
    "\n",
    "# Concatenate all years' data into a single DataFrame\n",
    "top_songs_all_years = pd.concat(all_years_data, ignore_index=True)\n",
    "\n",
    "# Display the table with multi-index for easier viewing by year\n",
    "top_songs_all_years.set_index(['Year', 'Song Name'], inplace=True)\n",
    "top_songs_all_years\n"
   ]
  },
  {
   "cell_type": "code",
   "execution_count": 21,
   "metadata": {},
   "outputs": [
    {
     "data": {
      "text/html": [
       "<div>\n",
       "<style scoped>\n",
       "    .dataframe tbody tr th:only-of-type {\n",
       "        vertical-align: middle;\n",
       "    }\n",
       "\n",
       "    .dataframe tbody tr th {\n",
       "        vertical-align: top;\n",
       "    }\n",
       "\n",
       "    .dataframe thead th {\n",
       "        text-align: right;\n",
       "    }\n",
       "</style>\n",
       "<table border=\"1\" class=\"dataframe\">\n",
       "  <thead>\n",
       "    <tr style=\"text-align: right;\">\n",
       "      <th></th>\n",
       "      <th></th>\n",
       "      <th>Hours Played</th>\n",
       "    </tr>\n",
       "    <tr>\n",
       "      <th>Year</th>\n",
       "      <th>Artist</th>\n",
       "      <th></th>\n",
       "    </tr>\n",
       "  </thead>\n",
       "  <tbody>\n",
       "    <tr>\n",
       "      <th rowspan=\"5\" valign=\"top\">2019</th>\n",
       "      <th>Robinson</th>\n",
       "      <td>18.67</td>\n",
       "    </tr>\n",
       "    <tr>\n",
       "      <th>Oliver Riot</th>\n",
       "      <td>11.42</td>\n",
       "    </tr>\n",
       "    <tr>\n",
       "      <th>AnnenMayKantereit</th>\n",
       "      <td>10.18</td>\n",
       "    </tr>\n",
       "    <tr>\n",
       "      <th>Aether</th>\n",
       "      <td>7.34</td>\n",
       "    </tr>\n",
       "    <tr>\n",
       "      <th>LOVE SUPREME</th>\n",
       "      <td>7.23</td>\n",
       "    </tr>\n",
       "    <tr>\n",
       "      <th rowspan=\"5\" valign=\"top\">2020</th>\n",
       "      <th>RÜFÜS DU SOL</th>\n",
       "      <td>25.87</td>\n",
       "    </tr>\n",
       "    <tr>\n",
       "      <th>Fynn Kliemann</th>\n",
       "      <td>24.92</td>\n",
       "    </tr>\n",
       "    <tr>\n",
       "      <th>AnnenMayKantereit</th>\n",
       "      <td>16.46</td>\n",
       "    </tr>\n",
       "    <tr>\n",
       "      <th>Lastlings</th>\n",
       "      <td>13.70</td>\n",
       "    </tr>\n",
       "    <tr>\n",
       "      <th>The Blaze</th>\n",
       "      <td>11.51</td>\n",
       "    </tr>\n",
       "    <tr>\n",
       "      <th rowspan=\"5\" valign=\"top\">2021</th>\n",
       "      <th>KAS:ST</th>\n",
       "      <td>13.91</td>\n",
       "    </tr>\n",
       "    <tr>\n",
       "      <th>Son Lux</th>\n",
       "      <td>8.53</td>\n",
       "    </tr>\n",
       "    <tr>\n",
       "      <th>AURORA</th>\n",
       "      <td>7.93</td>\n",
       "    </tr>\n",
       "    <tr>\n",
       "      <th>RÜFÜS DU SOL</th>\n",
       "      <td>7.89</td>\n",
       "    </tr>\n",
       "    <tr>\n",
       "      <th>Imogen Heap</th>\n",
       "      <td>7.57</td>\n",
       "    </tr>\n",
       "    <tr>\n",
       "      <th rowspan=\"5\" valign=\"top\">2022</th>\n",
       "      <th>RÜFÜS DU SOL</th>\n",
       "      <td>17.05</td>\n",
       "    </tr>\n",
       "    <tr>\n",
       "      <th>Aphex Twin</th>\n",
       "      <td>10.96</td>\n",
       "    </tr>\n",
       "    <tr>\n",
       "      <th>Frank Ocean</th>\n",
       "      <td>7.35</td>\n",
       "    </tr>\n",
       "    <tr>\n",
       "      <th>Lorde</th>\n",
       "      <td>7.15</td>\n",
       "    </tr>\n",
       "    <tr>\n",
       "      <th>SZA</th>\n",
       "      <td>6.96</td>\n",
       "    </tr>\n",
       "    <tr>\n",
       "      <th rowspan=\"5\" valign=\"top\">2023</th>\n",
       "      <th>Summer Salt</th>\n",
       "      <td>10.95</td>\n",
       "    </tr>\n",
       "    <tr>\n",
       "      <th>Frank Ocean</th>\n",
       "      <td>6.84</td>\n",
       "    </tr>\n",
       "    <tr>\n",
       "      <th>Gotye</th>\n",
       "      <td>6.53</td>\n",
       "    </tr>\n",
       "    <tr>\n",
       "      <th>Erykah Badu</th>\n",
       "      <td>6.49</td>\n",
       "    </tr>\n",
       "    <tr>\n",
       "      <th>The Blaze</th>\n",
       "      <td>6.32</td>\n",
       "    </tr>\n",
       "    <tr>\n",
       "      <th rowspan=\"5\" valign=\"top\">2024</th>\n",
       "      <th>Summer Salt</th>\n",
       "      <td>4.78</td>\n",
       "    </tr>\n",
       "    <tr>\n",
       "      <th>Avoure</th>\n",
       "      <td>3.56</td>\n",
       "    </tr>\n",
       "    <tr>\n",
       "      <th>Karyendasoul</th>\n",
       "      <td>3.18</td>\n",
       "    </tr>\n",
       "    <tr>\n",
       "      <th>Zimmer90</th>\n",
       "      <td>2.45</td>\n",
       "    </tr>\n",
       "    <tr>\n",
       "      <th>Kabza De Small</th>\n",
       "      <td>1.86</td>\n",
       "    </tr>\n",
       "  </tbody>\n",
       "</table>\n",
       "</div>"
      ],
      "text/plain": [
       "                        Hours Played\n",
       "Year Artist                         \n",
       "2019 Robinson                  18.67\n",
       "     Oliver Riot               11.42\n",
       "     AnnenMayKantereit         10.18\n",
       "     Aether                     7.34\n",
       "     LOVE SUPREME               7.23\n",
       "2020 RÜFÜS DU SOL              25.87\n",
       "     Fynn Kliemann             24.92\n",
       "     AnnenMayKantereit         16.46\n",
       "     Lastlings                 13.70\n",
       "     The Blaze                 11.51\n",
       "2021 KAS:ST                    13.91\n",
       "     Son Lux                    8.53\n",
       "     AURORA                     7.93\n",
       "     RÜFÜS DU SOL               7.89\n",
       "     Imogen Heap                7.57\n",
       "2022 RÜFÜS DU SOL              17.05\n",
       "     Aphex Twin                10.96\n",
       "     Frank Ocean                7.35\n",
       "     Lorde                      7.15\n",
       "     SZA                        6.96\n",
       "2023 Summer Salt               10.95\n",
       "     Frank Ocean                6.84\n",
       "     Gotye                      6.53\n",
       "     Erykah Badu                6.49\n",
       "     The Blaze                  6.32\n",
       "2024 Summer Salt                4.78\n",
       "     Avoure                     3.56\n",
       "     Karyendasoul               3.18\n",
       "     Zimmer90                   2.45\n",
       "     Kabza De Small             1.86"
      ]
     },
     "execution_count": 21,
     "metadata": {},
     "output_type": "execute_result"
    }
   ],
   "source": [
    "years = range(2019, 2025)\n",
    "# Set the number of artists to display\n",
    "n_artists = 5\n",
    "\n",
    "all_years_data = []\n",
    "\n",
    "# Loop through each year and get the top n artists\n",
    "for year in years:\n",
    "    yearly_data = df[df['Year'] == year]\n",
    "    top_artists_year = yearly_data.groupby('Artist')['Hours Played'].sum().sort_values(ascending=False).head(n_artists).reset_index()\n",
    "    top_artists_year['Year'] = year \n",
    "    all_years_data.append(top_artists_year)\n",
    "\n",
    "# Concatenate all years' data into a single DataFrame\n",
    "top_artists_all_years = pd.concat(all_years_data, ignore_index=True)\n",
    "\n",
    "# Display the table with multi-index for easier viewing by year\n",
    "top_artists_all_years.set_index(['Year', 'Artist'], inplace=True)\n",
    "top_artists_all_years"
   ]
  },
  {
   "cell_type": "markdown",
   "metadata": {},
   "source": [
    "#### Interactions Analysis"
   ]
  },
  {
   "cell_type": "markdown",
   "metadata": {},
   "source": [
    "##### Skipping Analysis"
   ]
  },
  {
   "cell_type": "markdown",
   "metadata": {},
   "source": [
    "Analyzing the skipping data has revealed some interesting situations such as there being practically no data for for the 2019-2021 period. This means it is hard to analyze and infer accurate information about the period as a whole. My educated guess for this would be that Spotify has adjusted what data they collect and/or how they collect data, and all the missing data have been back-filled with null. I cannot find any sources to back up this idea though.\n",
    "\n",
    "Skip rates ranged from 45%-65% annually, with Germany accounting for the most skips, followed by Italy and Namibia."
   ]
  },
  {
   "cell_type": "code",
   "execution_count": 22,
   "metadata": {},
   "outputs": [
    {
     "data": {
      "text/plain": [
       "Year\n",
       "2019          0.0\n",
       "2021          0.0\n",
       "2022     46.36497\n",
       "2023    50.342984\n",
       "2024    65.610351\n",
       "Name: Skipped, dtype: object"
      ]
     },
     "execution_count": 22,
     "metadata": {},
     "output_type": "execute_result"
    }
   ],
   "source": [
    "# Filter out rows where 'Skipped' is NaN or not a number\n",
    "df_filtered = df[pd.notna(df['Skipped']) & df['Skipped'].apply(lambda x: isinstance(x, (int, float)))]\n",
    "\n",
    "# Skip rate per year\n",
    "skip_rate_per_year = (df_filtered.groupby('Year')['Skipped'].mean() * 100).round(2)\n",
    "skip_rate_per_year"
   ]
  },
  {
   "cell_type": "code",
   "execution_count": 23,
   "metadata": {},
   "outputs": [
    {
     "data": {
      "text/plain": [
       "Country\n",
       "Germany    18589\n",
       "Italy        287\n",
       "Namibia      161\n",
       "France        72\n",
       "Spain         57\n",
       "Name: count, dtype: int64"
      ]
     },
     "execution_count": 23,
     "metadata": {},
     "output_type": "execute_result"
    }
   ],
   "source": [
    "# What countries do I skip the most in?\n",
    "skipped_countries = df[df['Skipped'] == True]['Country'].value_counts().head(5)\n",
    "skipped_countries"
   ]
  },
  {
   "cell_type": "markdown",
   "metadata": {},
   "source": [
    "##### Shuffle Mode"
   ]
  },
  {
   "cell_type": "markdown",
   "metadata": {},
   "source": [
    "I play over 56% of the music in shuffle mode on average. The rate at which I skip songs has been steadily increasing over time with 2024 taking the lead with a skip rate of 71.4%."
   ]
  },
  {
   "cell_type": "code",
   "execution_count": 24,
   "metadata": {},
   "outputs": [
    {
     "name": "stdout",
     "output_type": "stream",
     "text": [
      "Overall Percentage of Songs Played in Shuffle Mode: 56.52%\n"
     ]
    }
   ],
   "source": [
    "# At what rate do I play music while in shuffle mode\n",
    "total_shuffle_count = df['Shuffle'].sum()\n",
    "total_track_count = df.shape[0]\n",
    "shuffle_rate = total_shuffle_count / total_track_count * 100\n",
    "\n",
    "print(f\"Overall Percentage of Songs Played in Shuffle Mode: {shuffle_rate:.2f}%\")"
   ]
  },
  {
   "cell_type": "code",
   "execution_count": 25,
   "metadata": {},
   "outputs": [
    {
     "data": {
      "text/plain": [
       "Year\n",
       "2019    31.29\n",
       "2020    47.13\n",
       "2021    57.29\n",
       "2022    68.48\n",
       "2023    63.75\n",
       "2024    71.40\n",
       "Name: Shuffle, dtype: float64"
      ]
     },
     "execution_count": 25,
     "metadata": {},
     "output_type": "execute_result"
    }
   ],
   "source": [
    "# shuffle rate per year\n",
    "shuffle_rate_per_year = (df.groupby('Year')['Shuffle'].mean() * 100).round(2)\n",
    "shuffle_rate_per_year"
   ]
  },
  {
   "cell_type": "markdown",
   "metadata": {},
   "source": [
    "##### Song Start and End Reasons Analysis"
   ]
  },
  {
   "cell_type": "markdown",
   "metadata": {},
   "source": [
    "My top reasons for both starting and ending a particular song is the track being done, meaning a song starts because a previous song has finished, and a song ends, because the song itself has ended. Other high occurring interactions include pressing the forward button."
   ]
  },
  {
   "cell_type": "code",
   "execution_count": 26,
   "metadata": {},
   "outputs": [
    {
     "data": {
      "image/png": "[encoded data removed]",
      "text/plain": [
       "<Figure size 1000x800 with 2 Axes>"
      ]
     },
     "metadata": {},
     "output_type": "display_data"
    }
   ],
   "source": [
    "transition_crosstab = pd.crosstab(df['Start Reason'], df['End Reason'])\n",
    "\n",
    "plt.figure(figsize=(10,8))\n",
    "sns.heatmap(transition_crosstab, annot=True, fmt='d', cmap='Blues')\n",
    "plt.title('Transition from Reason Start to Reason End')\n",
    "plt.xlabel('Reason End')\n",
    "plt.ylabel('Reason Start')\n",
    "plt.show()"
   ]
  },
  {
   "cell_type": "markdown",
   "metadata": {},
   "source": [
    "## Summary and Insights"
   ]
  },
  {
   "cell_type": "markdown",
   "metadata": {},
   "source": [
    "### How accurate is my Spotify wrapped, and what can I expect for my 2024?"
   ]
  },
  {
   "cell_type": "markdown",
   "metadata": {},
   "source": [
    "Spotify Wrapped data aligns closely but not perfectly with the analyzed dataset, likely due to differences in tracking periods and algorithms. There have been no official statements from Spotify but an article suggests<sup>[2]</sup> that the date range for 2024 could be different, compared to what has been reported over the years.\n",
    "\n",
    "In comparing my wrapped data and the Spotify data however, I can determine it is close enough for me to at least estimate a few songs that might appear on my Spotify wrapped for the 2024 year. The top songs that are likely to appear on my 2024 wrapped are:\n",
    "- Aura by Avoure\n",
    "- Umoya by Karyendasoul\n",
    "- Cooling The Plasma by GuyRo\n",
    "- Wish We Could by Nico de Andrea\n",
    "- Nocturne by Worakls"
   ]
  },
  {
   "cell_type": "code",
   "execution_count": 27,
   "metadata": {},
   "outputs": [
    {
     "data": {
      "text/html": [
       "<div>\n",
       "<style scoped>\n",
       "    .dataframe tbody tr th:only-of-type {\n",
       "        vertical-align: middle;\n",
       "    }\n",
       "\n",
       "    .dataframe tbody tr th {\n",
       "        vertical-align: top;\n",
       "    }\n",
       "\n",
       "    .dataframe thead th {\n",
       "        text-align: right;\n",
       "    }\n",
       "</style>\n",
       "<table border=\"1\" class=\"dataframe\">\n",
       "  <thead>\n",
       "    <tr style=\"text-align: right;\">\n",
       "      <th></th>\n",
       "      <th></th>\n",
       "      <th>Wrapped Song Name</th>\n",
       "      <th>Wrapped Artist</th>\n",
       "      <th>Dataset Song Name</th>\n",
       "      <th>Dataset Artist</th>\n",
       "    </tr>\n",
       "    <tr>\n",
       "      <th>Year</th>\n",
       "      <th>Position</th>\n",
       "      <th></th>\n",
       "      <th></th>\n",
       "      <th></th>\n",
       "      <th></th>\n",
       "    </tr>\n",
       "  </thead>\n",
       "  <tbody>\n",
       "    <tr>\n",
       "      <th rowspan=\"5\" valign=\"top\">2020</th>\n",
       "      <th>1</th>\n",
       "      <td>Where Is My Mind</td>\n",
       "      <td>Maxence Cyrin</td>\n",
       "      <td>No Time - RÜFÜS DU SOL Extended Remix</td>\n",
       "      <td>Lastlings</td>\n",
       "    </tr>\n",
       "    <tr>\n",
       "      <th>2</th>\n",
       "      <td>Morning Sex</td>\n",
       "      <td>Ralph Castelli</td>\n",
       "      <td>New Sky</td>\n",
       "      <td>RÜFÜS DU SOL</td>\n",
       "    </tr>\n",
       "    <tr>\n",
       "      <th>3</th>\n",
       "      <td>Eine Minute</td>\n",
       "      <td>Fynn Kliemann</td>\n",
       "      <td>Waste - RY X Remix</td>\n",
       "      <td>Rhye</td>\n",
       "    </tr>\n",
       "    <tr>\n",
       "      <th>4</th>\n",
       "      <td>Nightcrawler</td>\n",
       "      <td>Nosaj Thing</td>\n",
       "      <td>Where Is My Mind</td>\n",
       "      <td>Maxence Cyrin</td>\n",
       "    </tr>\n",
       "    <tr>\n",
       "      <th>5</th>\n",
       "      <td>New Sky</td>\n",
       "      <td>RÜFÜS DU SOL</td>\n",
       "      <td>Particle G1</td>\n",
       "      <td>Hannah Peel</td>\n",
       "    </tr>\n",
       "    <tr>\n",
       "      <th rowspan=\"5\" valign=\"top\">2021</th>\n",
       "      <th>1</th>\n",
       "      <td>Hold Me To The Light</td>\n",
       "      <td>KAS:ST, Be No Rain</td>\n",
       "      <td>Hold Me To The Light</td>\n",
       "      <td>KAS:ST</td>\n",
       "    </tr>\n",
       "    <tr>\n",
       "      <th>2</th>\n",
       "      <td>Hide and Seek</td>\n",
       "      <td>Imogen Heap</td>\n",
       "      <td>Hide and Seek</td>\n",
       "      <td>Imogen Heap</td>\n",
       "    </tr>\n",
       "    <tr>\n",
       "      <th>3</th>\n",
       "      <td>Caves</td>\n",
       "      <td>Haux</td>\n",
       "      <td>Become the Warm Jets</td>\n",
       "      <td>Current Joys</td>\n",
       "    </tr>\n",
       "    <tr>\n",
       "      <th>4</th>\n",
       "      <td>La thune</td>\n",
       "      <td>Angèle</td>\n",
       "      <td>Caves</td>\n",
       "      <td>Haux</td>\n",
       "    </tr>\n",
       "    <tr>\n",
       "      <th>5</th>\n",
       "      <td>Become the Warm Jets</td>\n",
       "      <td>Current Joys</td>\n",
       "      <td>No Time - RÜFÜS DU SOL Extended Remix</td>\n",
       "      <td>Lastlings</td>\n",
       "    </tr>\n",
       "    <tr>\n",
       "      <th rowspan=\"5\" valign=\"top\">2022</th>\n",
       "      <th>1</th>\n",
       "      <td>#3</td>\n",
       "      <td>Aphex Twin</td>\n",
       "      <td>#3</td>\n",
       "      <td>Aphex Twin</td>\n",
       "    </tr>\n",
       "    <tr>\n",
       "      <th>2</th>\n",
       "      <td>letzer song</td>\n",
       "      <td>CRO</td>\n",
       "      <td>letzter song</td>\n",
       "      <td>CRO</td>\n",
       "    </tr>\n",
       "    <tr>\n",
       "      <th>3</th>\n",
       "      <td>Buzzcut Season</td>\n",
       "      <td>Lorde</td>\n",
       "      <td>Pyramids</td>\n",
       "      <td>Frank Ocean</td>\n",
       "    </tr>\n",
       "    <tr>\n",
       "      <th>4</th>\n",
       "      <td>On Malencholy Hill</td>\n",
       "      <td>Gorillaz</td>\n",
       "      <td>Drink Before the War</td>\n",
       "      <td>Sinéad O'Connor</td>\n",
       "    </tr>\n",
       "    <tr>\n",
       "      <th>5</th>\n",
       "      <td>Drink Before the War</td>\n",
       "      <td>Sinéad O'Connor</td>\n",
       "      <td>Buzzcut Season</td>\n",
       "      <td>Lorde</td>\n",
       "    </tr>\n",
       "    <tr>\n",
       "      <th rowspan=\"5\" valign=\"top\">2023</th>\n",
       "      <th>1</th>\n",
       "      <td>Hearts A Mess</td>\n",
       "      <td>Gotye</td>\n",
       "      <td>Hearts A Mess</td>\n",
       "      <td>Gotye</td>\n",
       "    </tr>\n",
       "    <tr>\n",
       "      <th>2</th>\n",
       "      <td>Rayon vert</td>\n",
       "      <td>Mylène Farmer, AaRON</td>\n",
       "      <td>Woza</td>\n",
       "      <td>Mr JazziQ</td>\n",
       "    </tr>\n",
       "    <tr>\n",
       "      <th>3</th>\n",
       "      <td>Woza</td>\n",
       "      <td>Mr JazziQ, Kabza De Small, Lady Du, Boohle</td>\n",
       "      <td>Rayon vert</td>\n",
       "      <td>Mylène Farmer</td>\n",
       "    </tr>\n",
       "    <tr>\n",
       "      <th>4</th>\n",
       "      <td>In This Darkness</td>\n",
       "      <td>Clara La San</td>\n",
       "      <td>Redbone</td>\n",
       "      <td>Childish Gambino</td>\n",
       "    </tr>\n",
       "    <tr>\n",
       "      <th>5</th>\n",
       "      <td>Consideration</td>\n",
       "      <td>Rihanna, SZA</td>\n",
       "      <td>Massive</td>\n",
       "      <td>Drake</td>\n",
       "    </tr>\n",
       "  </tbody>\n",
       "</table>\n",
       "</div>"
      ],
      "text/plain": [
       "                  Wrapped Song Name  \\\n",
       "Year Position                         \n",
       "2020 1             Where Is My Mind   \n",
       "     2                  Morning Sex   \n",
       "     3                  Eine Minute   \n",
       "     4                 Nightcrawler   \n",
       "     5                      New Sky   \n",
       "2021 1         Hold Me To The Light   \n",
       "     2                Hide and Seek   \n",
       "     3                        Caves   \n",
       "     4                     La thune   \n",
       "     5         Become the Warm Jets   \n",
       "2022 1                           #3   \n",
       "     2                  letzer song   \n",
       "     3               Buzzcut Season   \n",
       "     4           On Malencholy Hill   \n",
       "     5         Drink Before the War   \n",
       "2023 1                Hearts A Mess   \n",
       "     2                   Rayon vert   \n",
       "     3                         Woza   \n",
       "     4             In This Darkness   \n",
       "     5                Consideration   \n",
       "\n",
       "                                           Wrapped Artist  \\\n",
       "Year Position                                               \n",
       "2020 1                                      Maxence Cyrin   \n",
       "     2                                     Ralph Castelli   \n",
       "     3                                      Fynn Kliemann   \n",
       "     4                                        Nosaj Thing   \n",
       "     5                                       RÜFÜS DU SOL   \n",
       "2021 1                                 KAS:ST, Be No Rain   \n",
       "     2                                        Imogen Heap   \n",
       "     3                                               Haux   \n",
       "     4                                             Angèle   \n",
       "     5                                       Current Joys   \n",
       "2022 1                                         Aphex Twin   \n",
       "     2                                                CRO   \n",
       "     3                                              Lorde   \n",
       "     4                                           Gorillaz   \n",
       "     5                                    Sinéad O'Connor   \n",
       "2023 1                                              Gotye   \n",
       "     2                               Mylène Farmer, AaRON   \n",
       "     3         Mr JazziQ, Kabza De Small, Lady Du, Boohle   \n",
       "     4                                       Clara La San   \n",
       "     5                                       Rihanna, SZA   \n",
       "\n",
       "                                   Dataset Song Name    Dataset Artist  \n",
       "Year Position                                                           \n",
       "2020 1         No Time - RÜFÜS DU SOL Extended Remix         Lastlings  \n",
       "     2                                       New Sky      RÜFÜS DU SOL  \n",
       "     3                            Waste - RY X Remix              Rhye  \n",
       "     4                              Where Is My Mind     Maxence Cyrin  \n",
       "     5                                   Particle G1       Hannah Peel  \n",
       "2021 1                          Hold Me To The Light            KAS:ST  \n",
       "     2                                 Hide and Seek       Imogen Heap  \n",
       "     3                          Become the Warm Jets      Current Joys  \n",
       "     4                                         Caves              Haux  \n",
       "     5         No Time - RÜFÜS DU SOL Extended Remix         Lastlings  \n",
       "2022 1                                            #3        Aphex Twin  \n",
       "     2                                  letzter song               CRO  \n",
       "     3                                      Pyramids       Frank Ocean  \n",
       "     4                          Drink Before the War   Sinéad O'Connor  \n",
       "     5                                Buzzcut Season             Lorde  \n",
       "2023 1                                 Hearts A Mess             Gotye  \n",
       "     2                                          Woza         Mr JazziQ  \n",
       "     3                                    Rayon vert     Mylène Farmer  \n",
       "     4                                       Redbone  Childish Gambino  \n",
       "     5                                       Massive             Drake  "
      ]
     },
     "execution_count": 27,
     "metadata": {},
     "output_type": "execute_result"
    }
   ],
   "source": [
    "def get_data_for_year(df, year):\n",
    "    return df[df['Year'] == year]\n",
    "\n",
    "# Load and clean the wrapped data\n",
    "wrapped_df = pd.read_json('./wrapped_data/Wrapped_Data.json')\n",
    "wrapped_df.columns = ['Song Name', 'Artist', 'Year', 'Position']\n",
    "\n",
    "all_years_data = []\n",
    "\n",
    "# Loop through each year (2020–2023, as no data wrapped for 2019 and 2024)\n",
    "for year in range(2020, 2024):\n",
    "    df_year_wrapped = get_data_for_year(wrapped_df, year).reset_index(drop=True)\n",
    "\n",
    "    # Get the top 5 songs from the dataset for the current year\n",
    "    df_year_data = get_data_for_year(df, year).reset_index(drop=True)\n",
    "    top_songs_year = df_year_data.groupby(['Song Name', 'Artist', 'Year'])['Minutes Played'] \\\n",
    "                                 .sum().sort_values(ascending=False).head(5).reset_index()\n",
    "    top_songs_year.drop('Minutes Played', axis=1, inplace=True)\n",
    "\n",
    "    # Merge the Wrapped data with the dataset data by position\n",
    "    df_merged = df_year_wrapped.merge(top_songs_year, left_index=True, right_index=True)\n",
    "    df_merged['Year'] = year\n",
    "    df_merged.columns = ['Wrapped Song Name', 'Wrapped Artist', 'Wrapped Year', 'Position',\n",
    "                         'Dataset Song Name', 'Dataset Artist', 'Dataset Year', 'Year']\n",
    "\n",
    "    all_years_data.append(df_merged)\n",
    "\n",
    "# Concatenate results for all years into a single DataFrame\n",
    "final_df = pd.concat(all_years_data, ignore_index=True)\n",
    "\n",
    "final_df.set_index(['Year', 'Position'], inplace=True)\n",
    "final_df.drop(['Wrapped Year', 'Dataset Year'], axis=1, inplace=True)\n",
    "final_df\n"
   ]
  },
  {
   "cell_type": "markdown",
   "metadata": {},
   "source": [
    "### What kind of patterns exist in my listening habits? "
   ]
  },
  {
   "cell_type": "markdown",
   "metadata": {},
   "source": [
    "In reviewing my listening habits, a few patterns stand out. I use shuffle mode for the majority of my listening (56.52%) and skip songs frequently. My skip rate has been increasing steadily over the years, reaching a peak in 2024, which also saw a significant drop in overall listening time. Most of my songs start and end due to skipping; I often start a song by skipping the previous one, and many tracks end the same way. Since skip tracking began in 2022, Germany, my current residence, has the highest skip count, followed by Italy, where I frequently travel, and Namibia, where I’ve spent extended periods.\n",
    "\n",
    "My listening activity has generally declined each year since 2020, especially in 2024. From 2019 to 2021, my listening was high, partly because I used to play music while falling asleep, letting it run through the night until I woke up. During those years, I lived in Namibia, attended school, and had fewer responsibilities. Since moving to Germany in late 2021, my average monthly listening time has been decreasing, with 2024 marking the sharpest drop. This aligns with increased commitments: balancing a student job, studying, a relationship, and various projects all at once.\n",
    "\n",
    "Looking at my typical weekly listening pattern from 2019 to 2024, I listen to music more frequently in the early mornings, with activity tapering off during the day. This trend shows a steady reduction in listening over time, with certain hours of the day having no listening data at all in recent years. My listening habits are also consistent between weekends and weekdays with a weekday average of 2.04 min and a weekend average of 2.11 min per song.\n",
    "\n",
    "In terms of song start and end reasons, most songs begin and end because a track finishes (either the track itself or the one before it). I also frequently have “skip-skip,” “trackdone-skip,” and “clickrow-endplay” combinations. Given my heavy use of shuffle mode, the high skip count makes sense—I’m often searching for a particular song or mood without specifically knowing what to look for."
   ]
  },
  {
   "cell_type": "markdown",
   "metadata": {},
   "source": [
    "### Are there any seasonal trends or significant changes in my listening behavior?"
   ]
  },
  {
   "cell_type": "markdown",
   "metadata": {},
   "source": [
    "There does not seem to be any seasonality in the data. Instead a lot of my music habits tend to be impacted by or based on events and situations that happen in my life. Notable spikes include 2020 overall during the COVID-19 pandemic and lockdown. Outside of this, other spike (relative to the monthly data of a year) include May 2022 and December 2022, where I experienced the death of someone close to me, and huge trip back to Namibia respectively.\n",
    "\n",
    "I listen to more music when there is a major life event happening for me, such as a death, or a move or a trip. As these do not happen at regular times, they do not offer any pattern to analyze. The only significant and observable pattern is the overall decline of music quantity listened to over the years, particularly for 2024. Another factor contributing to this decline is that I have been more prone to listening to music from other sources such as Youtube, as I am leaning more towards longer listening sets by specific DJs, which is currently not possible with Spotify."
   ]
  },
  {
   "cell_type": "markdown",
   "metadata": {},
   "source": [
    "## Conclusion"
   ]
  },
  {
   "cell_type": "markdown",
   "metadata": {},
   "source": [
    "In conclusion, analyzing my Spotify data has provided valuable insights into my listening habits over the years. I’ve observed patterns in when and how I listen, with significant shifts influenced by life changes, responsibilities, and personal routines. The data reveals a consistent preference for shuffle mode, a high skip rate, and a notable decline in listening time, especially in 2024. Understanding these trends gives me a clearer picture of how music fits into my life and how my habits have evolved. Overall, it’s a fascinating reflection of my lifestyle and changing priorities over time."
   ]
  },
  {
   "cell_type": "markdown",
   "metadata": {},
   "source": [
    "---"
   ]
  },
  {
   "cell_type": "markdown",
   "metadata": {},
   "source": [
    "## References and Resources"
   ]
  },
  {
   "cell_type": "markdown",
   "metadata": {},
   "source": [
    "1: Understanding my data - Spotify. (n.d.). Spotify. https://support.spotify.com/de-en/article/understanding-my-data/\n",
    "\n",
    "2: Murray, C. (2024, November 4). Spotify wrapped will track data past Oct. 31—What we know about this year’s iteration. Forbes. https://www.forbes.com/sites/conormurray/2024/10/31/spotify-wrapped-will-track-data-past-oct-31-what-we-know-about-this-years-iteration/\n",
    "\n",
    "3: ChatGPT for assistance in analysis and writing."
   ]
  },
  {
   "cell_type": "markdown",
   "metadata": {},
   "source": []
  }
 ],
 "metadata": {
  "kernelspec": {
   "display_name": "base",
   "language": "python",
   "name": "python3"
  },
  "language_info": {
   "codemirror_mode": {
    "name": "ipython",
    "version": 3
   },
   "file_extension": ".py",
   "mimetype": "text/x-python",
   "name": "python",
   "nbconvert_exporter": "python",
   "pygments_lexer": "ipython3",
   "version": "3.12.4"
  }
 },
 "nbformat": 4,
 "nbformat_minor": 4
}
